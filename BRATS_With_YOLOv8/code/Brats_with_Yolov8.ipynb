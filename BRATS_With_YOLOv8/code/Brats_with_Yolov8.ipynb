{
 "cells": [
  {
   "attachments": {},
   "cell_type": "markdown",
   "metadata": {},
   "source": [
    "PIR_3 : Segmentation de tumeurs par YOLOv8 sur la database BRATS"
   ]
  },
  {
   "attachments": {},
   "cell_type": "markdown",
   "metadata": {},
   "source": [
    "_______________________________________________________________________________________________________________________________________________________________"
   ]
  },
  {
   "attachments": {},
   "cell_type": "markdown",
   "metadata": {},
   "source": [
    "1) __Intro__ : \n",
    "\n",
    "Nous souhaitons créer un model YOLOv8 à la segmentation de tumeurs BRATS. Pour cela nous avons utilisé la database BRATS. Npus partons donc de données compressées sous formats '.nii'. Cette data est composé de scans 3D cérébraux de 393 patients. Chaque scan est décomposé en 2 fichier '.nii' correspondant à la vérité de terrain (scan 3D segmenté à la main en plusieurs labels => niveau de gris entre 0 et 5) et au cliché à proprement parlé (coupe du cerveau dans les 3 axes).\n",
    "\n",
    "La database BRATS est disponible jusqu'au 05/06/2023 à l'adresse suivante : https://filesender.renater.fr/?s=download&token=0f6680d2-be1b-42b5-9153-227dda42896b\n",
    "\n",
    "Un dataset prêt pour l'apprentissage et la prediction YOLOv8 est disponible jusqu'au 05/06/2023 à l'adresse suivante : https://filesender.renater.fr/?s=download&token=e1b70e25-8e53-4e14-93ec-e811caa2f133\n",
    "\n",
    "Les résultats d'un model entrainé est disponible jusqu'au 05/06/2023 à l'adresse suivante : https://filesender.renater.fr/?s=download&token=c756029c-ebf1-4704-be7f-edb8d5094f1a\n",
    "\n",
    "YOLOv8 est un réseau neuronal profond édité par Ultralytics. Toute la doc peut être directement retrouvez sur le site : https://docs.ultralytics.com/tasks/detect/\n",
    "\n",
    "La biblithéque implementant YOLOv8 est sur : https://github.com/ultralytics/ultralytics \n",
    "\n",
    "Le l'environnement correspondant ce jupyter est présent sur le github suivant : https://github.com/ElMagicarp/PIR_3_YOLO/tree/main/Brats_with_YOLOv8\n",
    "\n",
    "__ATTENTION__ : nous utilisons ici Pytorch en mode 'cpu' pour faire tourner le réseau"
   ]
  },
  {
   "attachments": {},
   "cell_type": "markdown",
   "metadata": {},
   "source": [
    "_______________________________________________________________________________________________________________________________________________________________"
   ]
  },
  {
   "attachments": {},
   "cell_type": "markdown",
   "metadata": {},
   "source": [
    "__Préparation des imports / pip__"
   ]
  },
  {
   "cell_type": "code",
   "execution_count": null,
   "metadata": {
    "tags": []
   },
   "outputs": [],
   "source": [
    "import os\n",
    "import sys\n",
    "\n",
    "os.system('pip install -r requirements.txt')"
   ]
  },
  {
   "cell_type": "code",
   "execution_count": null,
   "metadata": {},
   "outputs": [],
   "source": [
    "import yoloTools\n",
    "import SLICER as slc\n",
    "import FORMATAGE as frm\n",
    "from picsellia.types.enums import AnnotationFileType\n",
    "from ultralytics import YOLO\n",
    "import numpy as np\n",
    "import cv2\n",
    "from matplotlib import pyplot as plt\n",
    "import os\n",
    "import sys\n",
    "from PIL import Image\n",
    "from matplotlib import pyplot as plt\n",
    "import glob\n",
    "import torch\n"
   ]
  },
  {
   "attachments": {},
   "cell_type": "markdown",
   "metadata": {},
   "source": [
    "_______________________________________________________________________________________________________________________________________________________________"
   ]
  },
  {
   "attachments": {},
   "cell_type": "markdown",
   "metadata": {},
   "source": [
    "2) __Formatage de la database__ :\n",
    "\n",
    "Dans cette implementation, nous utiliserons le formatage en répertoires suivant (contrainte ultralytics + yolotools):\n",
    "\n",
    "```\n",
    "-- datasets  +-- raw  +-- test  +-- images\n",
    "             |        |         |\n",
    "             |        |         +-- labels\n",
    "             |        |\n",
    "             |        +-- train +-- images\n",
    "             |        |         |\n",
    "             |        |         +-- labels\n",
    "             |        |\n",
    "             |        +-- val   +-- images\n",
    "             |                  |\n",
    "             |                  +-- labels\n",
    "             |\n",
    "             +-- refined  +-- test  +-- images\n",
    "                          |         |\n",
    "                          |         +-- labels\n",
    "                          |\n",
    "                          +-- train +-- images\n",
    "                          |         |\n",
    "                          |         +-- labels\n",
    "                          |\n",
    "                          +-- val   +-- images\n",
    "                                    |\n",
    "                                    +-- labels\n",
    "```\n",
    "\n",
    "__Pour constituer le dataset :__\n",
    " 1) Télécharger l'archive BRATS\n",
    " 2) Extraire l'archive dans le répertoire datasets\n",
    " 3) Déplacer tout les fichiers compressés .nii.gz dans répertoire datasets\n",
    " 4) Supprimer le répertoire vide issu de l'archive BRATS\n",
    " 5) Executer les scripts suivants ce markdown jusqu'à la prochaine section"
   ]
  },
  {
   "attachments": {},
   "cell_type": "markdown",
   "metadata": {},
   "source": [
    "__a) déclaration des config d'extraction des données (slice en png et réparti dans les bons fichiers)__"
   ]
  },
  {
   "cell_type": "code",
   "execution_count": null,
   "metadata": {},
   "outputs": [],
   "source": [
    "path_vers_datasets_raw = '../datasets/raw' #chemin relatif vers le répertoire dataset/raw\n",
    "seuil = 1 #seuil disciminant pour la sélection des coupes (int entre 1 et 100 => rapport nb pixels segementés/nb pixels)\n",
    "nb_coupe_par_scan = 5 #nb de coupes max extraites par fichier .nii.gz "
   ]
  },
  {
   "attachments": {},
   "cell_type": "markdown",
   "metadata": {},
   "source": [
    "__facultatif) test du dataset pour connaitre seuil max pour un nb de coupes par scan__"
   ]
  },
  {
   "cell_type": "code",
   "execution_count": null,
   "metadata": {},
   "outputs": [],
   "source": [
    "print(\"#_____________TEST_____________#\")\n",
    "slc.slicer_main(path_vers_datasets_raw, nb_coupe_par_scan,testSeuil=True)"
   ]
  },
  {
   "attachments": {},
   "cell_type": "markdown",
   "metadata": {},
   "source": [
    "__b) slice(.nii.gz -> png) + distribution dans les bons répertoires (refined/..) avec la répartition suivante:__\n",
    "\n",
    "train = 64% dataset ; val = 16% dataset ; test = 20% dataset\n",
    "\n",
    "Rq :  les patients ne peuvent être présent que dans un seul des sous répertoires"
   ]
  },
  {
   "cell_type": "code",
   "execution_count": null,
   "metadata": {},
   "outputs": [],
   "source": [
    "print('#_____________SELECTION_____________#')\n",
    "slc.slicer_main(path_vers_datasets_raw, seuil, nb_coupe_par_scan)"
   ]
  },
  {
   "attachments": {},
   "cell_type": "markdown",
   "metadata": {},
   "source": [
    "__d) déclaration des config pour le formatage des données__\n",
    "\n",
    "__ATTENTION__ : à cause de cv2, la segmentation ne se fait qu'en binaire, on ramene alors touts les labels à la même valeur ce qui nous empêche de les différencier\n",
    "\n",
    "__ATTENTION__ : si vous souhaitez changer de format ('bbox' ou 'seg') aprés avoir déjà formaté le dataset, vous devez repartir de la commande 2.b) en modifiant la variable 'mode' de 2.d) "
   ]
  },
  {
   "cell_type": "code",
   "execution_count": null,
   "metadata": {},
   "outputs": [],
   "source": [
    "path_vers_datasets_refined = '../datasets/refined' #chemin relatif vers le répertoire dataset/refined\n",
    "mode = 'seg' #indique le format souhaité 'seg' ou 'bbox' => 'bbox' pour bounding box et 'seg' pour segmentation\n",
    "resize = 128 # résolution de l'image carrée de sortie => reformatage en image carrée multiple de 32 à cause de YOLOv8 (ou changer 1ére couche du réseau)"
   ]
  },
  {
   "attachments": {},
   "cell_type": "markdown",
   "metadata": {},
   "source": [
    "__c) formatage du dataset avec génération du json format COCO et des data.yaml__"
   ]
  },
  {
   "cell_type": "code",
   "execution_count": null,
   "metadata": {},
   "outputs": [],
   "source": [
    "frm.formatage_main(path_vers_datasets_refined,mode,resize)"
   ]
  },
  {
   "attachments": {},
   "cell_type": "markdown",
   "metadata": {},
   "source": [
    "_______________________________________________________________________________________________________________________________________________________________"
   ]
  },
  {
   "attachments": {},
   "cell_type": "markdown",
   "metadata": {},
   "source": [
    "3) __Implémentation de YOLOv8 : entrainement__\n",
    "\n",
    "__ATTENTION__ : 'le fichier data.yaml généré à l'opération précédente se situe dans le répertoire datasets/refined, il faut modifier le chemin d'accés dans la déclaration du model ou renomer puis déplacer data.yaml dans le fichier code"
   ]
  },
  {
   "cell_type": "code",
   "execution_count": null,
   "metadata": {},
   "outputs": [],
   "source": [
    "#BRATS\n",
    "#model = YOLO('/home/jovyan/workspace/Yolov8/runs/detect/BRATS2/weights/best.pt'\n",
    "type_reseau = 'seg'\n",
    "tache = ''\n",
    "dirSortie =''\n",
    "\n",
    "if type_reseau == 'bbox':\n",
    "    model = YOLO('yolov8l.yaml') # yolov8l.yaml pour partir d'un modéle vierge, sinon indiquer le chemin vers model(.pt) pré-entrainé\n",
    "    yaml = 'dataBBOX.yaml'\n",
    "    tache = 'detect'\n",
    "    dirSortie ='BRATS_Bbox'\n",
    "    \n",
    "elif type_reseau == 'seg':\n",
    "    model = YOLO('yolov8l-seg.yaml') # yolov8l-seg.yaml pour partir d'un modéle vierge, sinon indiquer le chemin vers model(.pt) pré-entrainé\n",
    "    yaml = 'dataSEG.yaml'\n",
    "    tache = 'segment'\n",
    "    dirSortie ='BRATS_Seg'"
   ]
  },
  {
   "cell_type": "code",
   "execution_count": null,
   "metadata": {},
   "outputs": [],
   "source": [
    "#train BRATS\n",
    "results = model.train(\n",
    "\n",
    "   # il y a d'autres parametres possible => cf. site ultralytics yolov8\n",
    "   data=yaml,\n",
    "   task=tache,\n",
    "   imgsz=128,\n",
    "   epochs=30,\n",
    "   batch=10,\n",
    "   name='BRATS_Seg', # nom du répertoire de sortie\n",
    "   workers = 2,\n",
    ")"
   ]
  },
  {
   "attachments": {},
   "cell_type": "markdown",
   "metadata": {},
   "source": [
    "En sortie, yolov8 crée un nouveau répertoire dans code/runs/segment (pour segmentation) ou code/runs/detect (pour bounding box). Dans ce répertoire on retrouve le model entrainé (./weights : best.pt pour le model avec le meilleurs dice et last.pt le dernier model généré), un .csv recapitulant les stats tout au long des epochs, des graphs et des resultats de prédiction (seg ou bbox)"
   ]
  },
  {
   "attachments": {},
   "cell_type": "markdown",
   "metadata": {},
   "source": [
    "_______________________________________________________________________________________________________________________________________________________________\n"
   ]
  },
  {
   "attachments": {},
   "cell_type": "markdown",
   "metadata": {},
   "source": [
    "4) __Implémentation de YOLOv8 : prediction__\n",
    "\n",
    "__ATTENTION__ : pas testé, mais doit marcher"
   ]
  },
  {
   "cell_type": "code",
   "execution_count": null,
   "metadata": {},
   "outputs": [],
   "source": [
    "#predict BRATS\n",
    "results = model.predict(source = yaml,\n",
    "                         save=True,\n",
    "                         show=True,\n",
    "                         imgsz=128,\n",
    "                         conf=0.5)"
   ]
  }
 ],
 "metadata": {
  "kernelspec": {
   "display_name": "Python 3",
   "language": "python",
   "name": "python3"
  },
  "language_info": {
   "codemirror_mode": {
    "name": "ipython",
    "version": 3
   },
   "file_extension": ".py",
   "mimetype": "text/x-python",
   "name": "python",
   "nbconvert_exporter": "python",
   "pygments_lexer": "ipython3",
   "version": "3.10.7"
  },
  "orig_nbformat": 4
 },
 "nbformat": 4,
 "nbformat_minor": 2
}
