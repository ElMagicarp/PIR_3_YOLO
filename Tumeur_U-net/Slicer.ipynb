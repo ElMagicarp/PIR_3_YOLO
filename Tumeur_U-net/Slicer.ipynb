{
 "cells": [
  {
   "cell_type": "markdown",
   "id": "991f4fc1-9dfa-439d-9052-cd788841a4ef",
   "metadata": {},
   "source": [
    "# Slice BRATS' data with SimpleITK"
   ]
  },
  {
   "cell_type": "markdown",
   "id": "0fa9193a-286e-453b-b39c-2fbb2d0be109",
   "metadata": {
    "execution": {
     "iopub.execute_input": "2023-05-16T15:03:29.685293Z",
     "iopub.status.busy": "2023-05-16T15:03:29.684864Z",
     "iopub.status.idle": "2023-05-16T15:03:29.689776Z",
     "shell.execute_reply": "2023-05-16T15:03:29.688867Z",
     "shell.execute_reply.started": "2023-05-16T15:03:29.685216Z"
    }
   },
   "source": [
    "## Import libraries"
   ]
  },
  {
   "cell_type": "code",
   "execution_count": 1,
   "id": "e1bc4361-8871-4ffb-b64e-06a2dc3ced6d",
   "metadata": {
    "execution": {
     "iopub.execute_input": "2023-05-21T13:40:44.789880Z",
     "iopub.status.busy": "2023-05-21T13:40:44.789449Z",
     "iopub.status.idle": "2023-05-21T13:40:52.030000Z",
     "shell.execute_reply": "2023-05-21T13:40:52.029244Z",
     "shell.execute_reply.started": "2023-05-21T13:40:44.789811Z"
    },
    "tags": []
   },
   "outputs": [
    {
     "name": "stdout",
     "output_type": "stream",
     "text": [
      "Collecting tqdm\n",
      "  Using cached tqdm-4.65.0-py3-none-any.whl (77 kB)\n",
      "Installing collected packages: tqdm\n",
      "Successfully installed tqdm-4.65.0\n",
      "Collecting SimpleITK\n",
      "  Using cached SimpleITK-2.2.1-cp39-cp39-manylinux_2_17_x86_64.manylinux2014_x86_64.whl (52.7 MB)\n",
      "Installing collected packages: SimpleITK\n",
      "Successfully installed SimpleITK-2.2.1\n"
     ]
    }
   ],
   "source": [
    "import glob\n",
    "\n",
    "!pip install tqdm\n",
    "from tqdm import tqdm \n",
    "\n",
    "import numpy as np\n",
    "\n",
    "!pip install SimpleITK\n",
    "import SimpleITK as sitk"
   ]
  },
  {
   "cell_type": "markdown",
   "id": "b7298b01-d0a5-462e-8360-1aeb1c7aa652",
   "metadata": {},
   "source": [
    "## Load 3D volumes"
   ]
  },
  {
   "cell_type": "code",
   "execution_count": 2,
   "id": "b1550df4-cbc2-4012-9cac-52d85af99e68",
   "metadata": {
    "execution": {
     "iopub.execute_input": "2023-05-21T13:40:52.031885Z",
     "iopub.status.busy": "2023-05-21T13:40:52.031421Z",
     "iopub.status.idle": "2023-05-21T13:40:52.047330Z",
     "shell.execute_reply": "2023-05-21T13:40:52.046570Z",
     "shell.execute_reply.started": "2023-05-21T13:40:52.031859Z"
    },
    "tags": []
   },
   "outputs": [
    {
     "name": "stdout",
     "output_type": "stream",
     "text": [
      " -> First 3 train items \n",
      "./BRATS/BraTS20_Training_001_flair.nii.gz ./BRATS/BraTS20_Training_001_seg.nii.gz\n",
      "./BRATS/BraTS20_Training_002_flair.nii.gz ./BRATS/BraTS20_Training_002_seg.nii.gz\n",
      "./BRATS/BraTS20_Training_003_flair.nii.gz ./BRATS/BraTS20_Training_003_seg.nii.gz\n",
      " -> Last 3 train items \n",
      "./BRATS/BraTS20_Training_367_flair.nii.gz ./BRATS/BraTS20_Training_367_seg.nii.gz\n",
      "./BRATS/BraTS20_Training_368_flair.nii.gz ./BRATS/BraTS20_Training_368_seg.nii.gz\n",
      "./BRATS/BraTS20_Training_369_flair.nii.gz ./BRATS/BraTS20_Training_369_seg.nii.gz\n"
     ]
    },
    {
     "data": {
      "text/plain": [
       "[None, None, None]"
      ]
     },
     "execution_count": 2,
     "metadata": {},
     "output_type": "execute_result"
    }
   ],
   "source": [
    "flairPath=\"./BRATS/*_flair.nii.gz\"\n",
    "segmentationPath=\"./BRATS/*_seg.nii.gz\"\n",
    "flair_all=glob.glob(flairPath)\n",
    "flair_all.sort()\n",
    "\n",
    "seg_all=glob.glob(segmentationPath)\n",
    "seg_all.sort()\n",
    "nb_display=3 # Number of name files to display\n",
    "print( f\" -> First {nb_display} train items \")\n",
    "[print(flair_all[i], seg_all[i]) for i in range(nb_display)]\n",
    "\n",
    "print( f\" -> Last {nb_display} train items \")\n",
    "[print(flair_all[i], seg_all[i]) for i in range(len(flair_all)-nb_display,len(flair_all))]"
   ]
  },
  {
   "cell_type": "markdown",
   "id": "031b0c25-5c1a-4498-92a4-d3e31379093f",
   "metadata": {},
   "source": [
    "## Extract the slices"
   ]
  },
  {
   "cell_type": "code",
   "execution_count": 3,
   "id": "70188ad4-429d-44e3-b1a7-780d5c5262b8",
   "metadata": {
    "execution": {
     "iopub.execute_input": "2023-05-21T13:43:58.785608Z",
     "iopub.status.busy": "2023-05-21T13:43:58.785197Z",
     "iopub.status.idle": "2023-05-21T13:44:52.613135Z",
     "shell.execute_reply": "2023-05-21T13:44:52.612240Z",
     "shell.execute_reply.started": "2023-05-21T13:43:58.785581Z"
    },
    "tags": []
   },
   "outputs": [
    {
     "name": "stderr",
     "output_type": "stream",
     "text": [
      "100%|██████████| 369/369 [00:53<00:00,  6.86it/s]\n"
     ]
    }
   ],
   "source": [
    "threshold=0.01 #treshold du pourcentage de pixel segmenté minimum dans une image\n",
    "trainPath=\"Database/Train/\"\n",
    "testPath=\"Database/Test/\"\n",
    "\n",
    "for nImage in tqdm(range(len(flair_all))):\n",
    "    Zs=[]\n",
    "    stat=sitk.StatisticsImageFilter()\n",
    "    #Lire l'image\n",
    "    flair = sitk.ReadImage(flair_all[nImage])\n",
    "    seg = sitk.ReadImage(seg_all[nImage])\n",
    "    \n",
    "    seg =  sitk.Cast(seg,sitk.sitkUInt8)\n",
    "    size = list(flair.GetSize())\n",
    "    totalPixel=size[1]*size[0]\n",
    "    tresholdValue=totalPixel*threshold\n",
    "    \n",
    "    \n",
    "    #Count pixels in 1 image out of 5\n",
    "    for z in range(0,size[2],5):\n",
    "         stat.Execute(seg[:,:,z])\n",
    "         Zs.append([stat.GetSum(),z])\n",
    "    Zs.sort(reverse=True) \n",
    "    size[2]=0 #Because we only want 2D slices from the extractor\n",
    "    \n",
    "    #Extract slices with most segmented pixels\n",
    "    for index in range(min(5,len(Zs))):\n",
    "        if Zs[index][0]<tresholdValue:\n",
    "            break\n",
    "        #Extract slice\n",
    "        Extractor = sitk.ExtractImageFilter() \n",
    "        indexExtrac = [0, 0, Zs[index][1]]\n",
    "        Extractor.SetSize(size)\n",
    "        Extractor.SetIndex(indexExtrac)\n",
    "        flair_slice=Extractor.Execute(flair) \n",
    "        \n",
    "        #Transform slice to save it as PNG\n",
    "        flair_slice=sitk.RescaleIntensity(flair_slice,0,255)\n",
    "        flair_slice = sitk.Cast(flair_slice,sitk.sitkUInt8)\n",
    "        \n",
    "        #Save slice and divide it between train set and test set\n",
    "        if nImage+1<=300:\n",
    "            sitk.WriteImage(flair_slice, trainPath+f\"{(nImage+1):03d}\"+\"_\"+str(index+1)+\"flair.png\")\n",
    "            sitk.WriteImage(Extractor.Execute(seg), trainPath+f\"{(nImage+1):03d}\"+\"_\"+str(index+1)+\"seg.png\")\n",
    "        else:\n",
    "            sitk.WriteImage(flair_slice, testPath+f\"{(nImage+1):03d}\"+\"_\"+str(index+1)+\"flair.png\")\n",
    "            sitk.WriteImage(Extractor.Execute(seg), testPath+f\"{(nImage+1):03d}\"+\"_\"+str(index+1)+\"seg.png\")"
   ]
  },
  {
   "cell_type": "code",
   "execution_count": null,
   "id": "9d90daa4-bc62-40dd-ae7e-29384e3e357c",
   "metadata": {},
   "outputs": [],
   "source": []
  }
 ],
 "metadata": {
  "kernelspec": {
   "display_name": "saturn (Python 3)",
   "language": "python",
   "name": "python3"
  },
  "language_info": {
   "codemirror_mode": {
    "name": "ipython",
    "version": 3
   },
   "file_extension": ".py",
   "mimetype": "text/x-python",
   "name": "python",
   "nbconvert_exporter": "python",
   "pygments_lexer": "ipython3",
   "version": "3.9.13"
  }
 },
 "nbformat": 4,
 "nbformat_minor": 5
}
