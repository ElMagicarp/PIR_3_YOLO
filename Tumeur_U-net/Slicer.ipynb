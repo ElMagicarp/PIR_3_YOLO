{
 "cells": [
  {
   "cell_type": "markdown",
   "id": "991f4fc1-9dfa-439d-9052-cd788841a4ef",
   "metadata": {},
   "source": [
    "# Découper les données de BRATS avec SimpleITK"
   ]
  },
  {
   "cell_type": "markdown",
   "id": "0fa9193a-286e-453b-b39c-2fbb2d0be109",
   "metadata": {
    "execution": {
     "iopub.execute_input": "2023-05-16T15:03:29.685293Z",
     "iopub.status.busy": "2023-05-16T15:03:29.684864Z",
     "iopub.status.idle": "2023-05-16T15:03:29.689776Z",
     "shell.execute_reply": "2023-05-16T15:03:29.688867Z",
     "shell.execute_reply.started": "2023-05-16T15:03:29.685216Z"
    }
   },
   "source": [
    "## Import des librairies"
   ]
  },
  {
   "cell_type": "code",
   "execution_count": 2,
   "id": "e1bc4361-8871-4ffb-b64e-06a2dc3ced6d",
   "metadata": {
    "execution": {
     "iopub.execute_input": "2023-05-17T06:24:12.206967Z",
     "iopub.status.busy": "2023-05-17T06:24:12.206599Z",
     "iopub.status.idle": "2023-05-17T06:24:17.658894Z",
     "shell.execute_reply": "2023-05-17T06:24:17.658097Z",
     "shell.execute_reply.started": "2023-05-17T06:24:12.206941Z"
    },
    "tags": []
   },
   "outputs": [
    {
     "name": "stdout",
     "output_type": "stream",
     "text": [
      "Requirement already satisfied: tqdm in /opt/saturncloud/envs/saturn/lib/python3.9/site-packages (4.65.0)\n",
      "Requirement already satisfied: SimpleITK in /opt/saturncloud/envs/saturn/lib/python3.9/site-packages (2.2.1)\n"
     ]
    }
   ],
   "source": [
    "import glob\n",
    "\n",
    "!pip install tqdm\n",
    "from tqdm import tqdm \n",
    "\n",
    "import numpy as np\n",
    "\n",
    "!pip install SimpleITK\n",
    "import SimpleITK as sitk"
   ]
  },
  {
   "cell_type": "markdown",
   "id": "b7298b01-d0a5-462e-8360-1aeb1c7aa652",
   "metadata": {},
   "source": [
    "## Chargement des fichiers à découper"
   ]
  },
  {
   "cell_type": "code",
   "execution_count": 34,
   "id": "b1550df4-cbc2-4012-9cac-52d85af99e68",
   "metadata": {
    "execution": {
     "iopub.execute_input": "2023-05-17T09:52:36.683357Z",
     "iopub.status.busy": "2023-05-17T09:52:36.682942Z",
     "iopub.status.idle": "2023-05-17T09:52:36.693119Z",
     "shell.execute_reply": "2023-05-17T09:52:36.692487Z",
     "shell.execute_reply.started": "2023-05-17T09:52:36.683330Z"
    },
    "tags": []
   },
   "outputs": [
    {
     "name": "stdout",
     "output_type": "stream",
     "text": [
      " -> First 3 train items \n",
      "./BRATS/BraTS20_Training_001_flair.nii.gz ./BRATS/BraTS20_Training_001_seg.nii.gz\n",
      "./BRATS/BraTS20_Training_002_flair.nii.gz ./BRATS/BraTS20_Training_002_seg.nii.gz\n",
      "./BRATS/BraTS20_Training_003_flair.nii.gz ./BRATS/BraTS20_Training_003_seg.nii.gz\n",
      " -> Last 3 train items \n",
      "./BRATS/BraTS20_Training_367_flair.nii.gz ./BRATS/BraTS20_Training_367_seg.nii.gz\n",
      "./BRATS/BraTS20_Training_368_flair.nii.gz ./BRATS/BraTS20_Training_368_seg.nii.gz\n",
      "./BRATS/BraTS20_Training_369_flair.nii.gz ./BRATS/BraTS20_Training_369_seg.nii.gz\n"
     ]
    },
    {
     "data": {
      "text/plain": [
       "[None, None, None]"
      ]
     },
     "execution_count": 34,
     "metadata": {},
     "output_type": "execute_result"
    }
   ],
   "source": [
    "threshold=0.01 #treshold du nombre de segmentation dans une image\n",
    "flair_all=glob.glob(\"./BRATS/*_flair.nii.gz\")\n",
    "flair_all.sort()\n",
    "\n",
    "seg_all=glob.glob(\"./BRATS/*_seg.nii.gz\")\n",
    "seg_all.sort()\n",
    "nb_display=3\n",
    "print( f\" -> First {nb_display} train items \")\n",
    "[print(flair_all[i], seg_all[i]) for i in range(nb_display)]\n",
    "\n",
    "print( f\" -> Last {nb_display} train items \")\n",
    "[print(flair_all[i], seg_all[i]) for i in range(len(flair_all)-nb_display,len(flair_all))]"
   ]
  },
  {
   "cell_type": "markdown",
   "id": "031b0c25-5c1a-4498-92a4-d3e31379093f",
   "metadata": {},
   "source": [
    "## Découper les données"
   ]
  },
  {
   "cell_type": "code",
   "execution_count": 30,
   "id": "70188ad4-429d-44e3-b1a7-780d5c5262b8",
   "metadata": {
    "execution": {
     "iopub.execute_input": "2023-05-17T07:19:23.594163Z",
     "iopub.status.busy": "2023-05-17T07:19:23.593782Z",
     "iopub.status.idle": "2023-05-17T07:20:10.924663Z",
     "shell.execute_reply": "2023-05-17T07:20:10.923572Z",
     "shell.execute_reply.started": "2023-05-17T07:19:23.594135Z"
    },
    "tags": []
   },
   "outputs": [
    {
     "name": "stderr",
     "output_type": "stream",
     "text": [
      "100%|██████████| 369/369 [00:47<00:00,  7.80it/s]\n"
     ]
    }
   ],
   "source": [
    "for nImage in tqdm(range(len(flair_all))):\n",
    "    Zs=[]\n",
    "    flair = sitk.ReadImage(flair_all[nImage])\n",
    "    seg = sitk.ReadImage(seg_all[nImage])\n",
    "    seg =  sitk.Cast(seg,sitk.sitkUInt8)\n",
    "    size = list(flair.GetSize())\n",
    "    totalPixel=size[1]*size[0]\n",
    "    tresholdValue=totalPixel*threshold\n",
    "    stat=sitk.StatisticsImageFilter()\n",
    "    for z in range(0,size[2],5):\n",
    "         stat.Execute(seg[:,:,z])\n",
    "         Zs.append([stat.GetSum(),z])\n",
    "    Zs.sort(reverse=True) \n",
    "    size[2]=0\n",
    "    \n",
    "    for index in range(min(5,len(Zs))):\n",
    "        if Zs[index][0]<tresholdValue:\n",
    "            break\n",
    "        Extractor = sitk.ExtractImageFilter() \n",
    "        indexExtrac = [0, 0, Zs[index][1]]\n",
    "        Extractor.SetSize(size)\n",
    "        Extractor.SetIndex(indexExtrac)\n",
    "        flair_slice=Extractor.Execute(flair)\n",
    "        flair_slice=sitk.RescaleIntensity(flair_slice,0,255)\n",
    "        flair_slice = sitk.Cast(flair_slice,sitk.sitkUInt8)\n",
    "        total=0\n",
    "        \n",
    "        if nImage+1<=300:\n",
    "            sitk.WriteImage(flair_slice, \"Test/Train/\"+f\"{(nImage+1):03d}\"+\"_\"+str(index+1)+\"flair.png\",imageIO='PNGImageIO')\n",
    "            sitk.WriteImage(Extractor.Execute(seg), \"Test/Train/\"+f\"{(nImage+1):03d}\"+\"_\"+str(index+1)+\"seg.png\",imageIO='PNGImageIO')\n",
    "        else:\n",
    "            sitk.WriteImage(flair_slice, \"Test/Test1/\"+f\"{(nImage+1):03d}\"+\"_\"+str(index+1)+\"flair.png\",imageIO='PNGImageIO')\n",
    "            sitk.WriteImage(Extractor.Execute(seg), \"Test/Test1/\"+f\"{(nImage+1):03d}\"+\"_\"+str(index+1)+\"seg.png\",imageIO='PNGImageIO')"
   ]
  }
 ],
 "metadata": {
  "kernelspec": {
   "display_name": "saturn (Python 3)",
   "language": "python",
   "name": "python3"
  },
  "language_info": {
   "codemirror_mode": {
    "name": "ipython",
    "version": 3
   },
   "file_extension": ".py",
   "mimetype": "text/x-python",
   "name": "python",
   "nbconvert_exporter": "python",
   "pygments_lexer": "ipython3",
   "version": "3.9.13"
  }
 },
 "nbformat": 4,
 "nbformat_minor": 5
}
